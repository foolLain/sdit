{
 "cells": [
  {
   "cell_type": "code",
   "execution_count": 1,
   "metadata": {},
   "outputs": [
    {
     "name": "stderr",
     "output_type": "stream",
     "text": [
      "/home/ys/.conda/envs/snn/lib/python3.10/site-packages/tqdm/auto.py:21: TqdmWarning: IProgress not found. Please update jupyter and ipywidgets. See https://ipywidgets.readthedocs.io/en/stable/user_install.html\n",
      "  from .autonotebook import tqdm as notebook_tqdm\n"
     ]
    }
   ],
   "source": [
    "from cleanfid import fid"
   ]
  },
  {
   "cell_type": "code",
   "execution_count": 4,
   "metadata": {},
   "outputs": [
    {
     "name": "stdout",
     "output_type": "stream",
     "text": [
      "compute FID between two folders\n",
      "Found 50000 images in the folder /home/ys/DiT/samples_fid/fmnist_T2/fmnist/SDiT-0600000-size-32-cfg-7.0-seed-0\n"
     ]
    },
    {
     "name": "stderr",
     "output_type": "stream",
     "text": [
      "FID SDiT-0600000-size-32-cfg-7.0-seed-0 : 100%|██████████| 1000/1000 [04:13<00:00,  3.95it/s]\n"
     ]
    },
    {
     "name": "stdout",
     "output_type": "stream",
     "text": [
      "Found 60000 images in the folder /HDD/data/fmnist_images\n"
     ]
    },
    {
     "name": "stderr",
     "output_type": "stream",
     "text": [
      "FID fmnist_images : 100%|██████████| 1200/1200 [04:54<00:00,  4.07it/s]\n"
     ]
    },
    {
     "name": "stdout",
     "output_type": "stream",
     "text": [
      "14.595804156339028\n"
     ]
    }
   ],
   "source": [
    "score = fid.compute_fid('/home/ys/DiT/samples_fid/fmnist_T2/fmnist/SDiT-0600000-size-32-cfg-7.0-seed-0', '/HDD/data/fmnist_images',batch_size=50)\n",
    "print(score)"
   ]
  },
  {
   "cell_type": "code",
   "execution_count": 5,
   "metadata": {},
   "outputs": [
    {
     "name": "stdout",
     "output_type": "stream",
     "text": [
      "compute FID between two folders\n",
      "Found 50000 images in the folder /home/ys/DiT/samples_fid/celeba_/SDiT-1400000-size-64-cfg-1.0-seed-0\n"
     ]
    },
    {
     "name": "stderr",
     "output_type": "stream",
     "text": [
      "FID SDiT-1400000-size-64-cfg-1.0-seed-0 : 100%|██████████| 1000/1000 [03:52<00:00,  4.30it/s]\n"
     ]
    },
    {
     "name": "stdout",
     "output_type": "stream",
     "text": [
      "Found 202599 images in the folder /HDD/data/celeba_images/\n"
     ]
    },
    {
     "name": "stderr",
     "output_type": "stream",
     "text": [
      "FID  : 100%|██████████| 4052/4052 [15:39<00:00,  4.31it/s]\n"
     ]
    },
    {
     "name": "stdout",
     "output_type": "stream",
     "text": [
      "13.348862264746117\n"
     ]
    }
   ],
   "source": [
    "celeba_score = fid.compute_fid('/home/ys/DiT/samples_fid/celeba_/SDiT-1400000-size-64-cfg-1.0-seed-0', '/HDD/data/celeba_images/',batch_size=50)\n",
    "print(celeba_score)"
   ]
  },
  {
   "cell_type": "code",
   "execution_count": 6,
   "metadata": {},
   "outputs": [
    {
     "name": "stdout",
     "output_type": "stream",
     "text": [
      "compute FID between two folders\n",
      "Found 50000 images in the folder /home/ys/DiT/samples_fid/cifar10/SDiT-0280000-size-32-cfg-7.0-seed-0\n"
     ]
    },
    {
     "name": "stderr",
     "output_type": "stream",
     "text": [
      "FID SDiT-0280000-size-32-cfg-7.0-seed-0 : 100%|██████████| 1000/1000 [03:56<00:00,  4.23it/s]\n"
     ]
    },
    {
     "name": "stdout",
     "output_type": "stream",
     "text": [
      "Found 50000 images in the folder /HDD/data/cifar10_images\n"
     ]
    },
    {
     "name": "stderr",
     "output_type": "stream",
     "text": [
      "FID cifar10_images : 100%|██████████| 1000/1000 [04:06<00:00,  4.07it/s]\n"
     ]
    },
    {
     "name": "stdout",
     "output_type": "stream",
     "text": [
      "13.752532216760528\n"
     ]
    }
   ],
   "source": [
    "cifar_score = fid.compute_fid(\"/home/ys/DiT/samples_fid/cifar10/SDiT-0280000-size-32-cfg-7.0-seed-0\", \"/HDD/data/cifar10_images\",batch_size=50)\n",
    "print(cifar_score)"
   ]
  },
  {
   "cell_type": "code",
   "execution_count": 7,
   "metadata": {},
   "outputs": [
    {
     "name": "stdout",
     "output_type": "stream",
     "text": [
      "compute FID between two folders\n",
      "Found 50000 images in the folder /home/ys/DiT/samples_fid/mnist_2step/SDiT-0140400-size-32-cfg-7.0-seed-0\n"
     ]
    },
    {
     "name": "stderr",
     "output_type": "stream",
     "text": [
      "FID SDiT-0140400-size-32-cfg-7.0-seed-0 : 100%|██████████| 1000/1000 [03:50<00:00,  4.35it/s]\n"
     ]
    },
    {
     "name": "stdout",
     "output_type": "stream",
     "text": [
      "Found 60000 images in the folder /HDD/data/mnist_images\n"
     ]
    },
    {
     "name": "stderr",
     "output_type": "stream",
     "text": [
      "FID mnist_images : 100%|██████████| 1200/1200 [04:31<00:00,  4.42it/s]\n"
     ]
    },
    {
     "name": "stdout",
     "output_type": "stream",
     "text": [
      "8.597107805574666\n"
     ]
    }
   ],
   "source": [
    "mnist_score = fid.compute_fid(\"/home/ys/DiT/samples_fid/mnist_2step/SDiT-0140400-size-32-cfg-7.0-seed-0\", \"/HDD/data/mnist_images\",batch_size=50)\n",
    "print(mnist_score)"
   ]
  },
  {
   "cell_type": "code",
   "execution_count": 8,
   "metadata": {},
   "outputs": [
    {
     "name": "stdout",
     "output_type": "stream",
     "text": [
      "compute FID between two folders\n",
      "Found 50000 images in the folder /home/ys/DiT/samples_fid/mnist_NO/SDiT-0140400-size-32-cfg-7.0-seed--1\n"
     ]
    },
    {
     "name": "stderr",
     "output_type": "stream",
     "text": [
      "FID SDiT-0140400-size-32-cfg-7.0-seed--1 : 100%|██████████| 1000/1000 [03:49<00:00,  4.35it/s]\n"
     ]
    },
    {
     "name": "stdout",
     "output_type": "stream",
     "text": [
      "Found 60000 images in the folder /HDD/data/mnist_images\n"
     ]
    },
    {
     "name": "stderr",
     "output_type": "stream",
     "text": [
      "FID mnist_images : 100%|██████████| 1200/1200 [04:34<00:00,  4.38it/s]\n"
     ]
    },
    {
     "name": "stdout",
     "output_type": "stream",
     "text": [
      "14.819220004634275\n"
     ]
    }
   ],
   "source": [
    "mnist_no_score = fid.compute_fid(\"/home/ys/DiT/samples_fid/mnist_NO/SDiT-0140400-size-32-cfg-7.0-seed--1\", \"/HDD/data/mnist_images\",batch_size=50)\n",
    "print(mnist_no_score)"
   ]
  },
  {
   "cell_type": "code",
   "execution_count": 9,
   "metadata": {},
   "outputs": [
    {
     "name": "stdout",
     "output_type": "stream",
     "text": [
      "compute FID between two folders\n",
      "Found 50000 images in the folder /home/ys/DiT/samples_fid/cifar10_NO/SDiT-0208000-size-32-cfg-7.0-seed--1\n"
     ]
    },
    {
     "name": "stderr",
     "output_type": "stream",
     "text": [
      "FID SDiT-0208000-size-32-cfg-7.0-seed--1 : 100%|██████████| 1000/1000 [03:46<00:00,  4.41it/s]\n"
     ]
    },
    {
     "name": "stdout",
     "output_type": "stream",
     "text": [
      "Found 50000 images in the folder /HDD/data/cifar10_images\n"
     ]
    },
    {
     "name": "stderr",
     "output_type": "stream",
     "text": [
      "FID cifar10_images : 100%|██████████| 1000/1000 [03:52<00:00,  4.29it/s]\n"
     ]
    },
    {
     "name": "stdout",
     "output_type": "stream",
     "text": [
      "17.796204732456317\n"
     ]
    }
   ],
   "source": [
    "cifar_no_score = fid.compute_fid(\"/home/ys/DiT/samples_fid/cifar10_NO/SDiT-0208000-size-32-cfg-7.0-seed--1\", \"/HDD/data/cifar10_images\",batch_size=50)\n",
    "print(cifar_no_score)"
   ]
  },
  {
   "cell_type": "code",
   "execution_count": 10,
   "metadata": {},
   "outputs": [
    {
     "name": "stdout",
     "output_type": "stream",
     "text": [
      "compute FID between two folders\n",
      "Found 50000 images in the folder /home/ys/DiT/samples_fid/fmnist_NO/SDiT-0640000-size-32-cfg-7.0-seed--1\n"
     ]
    },
    {
     "name": "stderr",
     "output_type": "stream",
     "text": [
      "FID SDiT-0640000-size-32-cfg-7.0-seed--1 : 100%|██████████| 1000/1000 [03:48<00:00,  4.37it/s]\n"
     ]
    },
    {
     "name": "stdout",
     "output_type": "stream",
     "text": [
      "Found 60000 images in the folder /HDD/data/fmnist_images\n"
     ]
    },
    {
     "name": "stderr",
     "output_type": "stream",
     "text": [
      "FID fmnist_images : 100%|██████████| 1200/1200 [04:36<00:00,  4.34it/s]\n"
     ]
    },
    {
     "name": "stdout",
     "output_type": "stream",
     "text": [
      "17.96461806987753\n"
     ]
    }
   ],
   "source": [
    "fmnist_no_score = fid.compute_fid('/home/ys/DiT/samples_fid/fmnist_NO/SDiT-0640000-size-32-cfg-7.0-seed--1', '/HDD/data/fmnist_images',batch_size=50)\n",
    "print(fmnist_no_score)"
   ]
  },
  {
   "cell_type": "code",
   "execution_count": 11,
   "metadata": {},
   "outputs": [
    {
     "name": "stdout",
     "output_type": "stream",
     "text": [
      "compute FID between two folders\n",
      "Found 50000 images in the folder /home/ys/DiT/samples_fid/cifar10_T2/SDiT-0150000-size-32-cfg-7.0-seed-0\n"
     ]
    },
    {
     "name": "stderr",
     "output_type": "stream",
     "text": [
      "FID SDiT-0150000-size-32-cfg-7.0-seed-0 : 100%|██████████| 1000/1000 [03:51<00:00,  4.31it/s]\n"
     ]
    },
    {
     "name": "stdout",
     "output_type": "stream",
     "text": [
      "Found 50000 images in the folder /HDD/data/cifar10_images\n"
     ]
    },
    {
     "name": "stderr",
     "output_type": "stream",
     "text": [
      "FID cifar10_images : 100%|██████████| 1000/1000 [03:47<00:00,  4.40it/s]\n"
     ]
    },
    {
     "name": "stdout",
     "output_type": "stream",
     "text": [
      "16.47198538600236\n"
     ]
    }
   ],
   "source": [
    "cifar_2_score = fid.compute_fid(\"/home/ys/DiT/samples_fid/cifar10_T2/SDiT-0150000-size-32-cfg-7.0-seed-0\", \"/HDD/data/cifar10_images\",batch_size=50)\n",
    "print(cifar_2_score)"
   ]
  },
  {
   "cell_type": "code",
   "execution_count": 2,
   "metadata": {},
   "outputs": [
    {
     "name": "stdout",
     "output_type": "stream",
     "text": [
      "compute FID between two folders\n",
      "Found 50000 images in the folder /home/ys/DiT/dit_mnist/samples/DiT-mnist-0070200-size-32-vae-ema-cfg-1.5-seed-0\n"
     ]
    },
    {
     "name": "stderr",
     "output_type": "stream",
     "text": [
      "FID DiT-mnist-0070200-size-32-vae-ema-cfg-1.5-seed-0 : 100%|██████████| 1000/1000 [03:47<00:00,  4.40it/s]\n"
     ]
    },
    {
     "name": "stdout",
     "output_type": "stream",
     "text": [
      "Found 60000 images in the folder /HDD/data/mnist_images\n"
     ]
    },
    {
     "name": "stderr",
     "output_type": "stream",
     "text": [
      "FID mnist_images : 100%|██████████| 1200/1200 [04:24<00:00,  4.54it/s]\n"
     ]
    },
    {
     "name": "stdout",
     "output_type": "stream",
     "text": [
      "10.951145523269588\n"
     ]
    }
   ],
   "source": [
    "dit_mnist_score = fid.compute_fid(\"/home/ys/DiT/dit_mnist/samples/DiT-mnist-0070200-size-32-vae-ema-cfg-1.5-seed-0\", \"/HDD/data/mnist_images\",batch_size=50)\n",
    "print(dit_mnist_score)"
   ]
  },
  {
   "cell_type": "code",
   "execution_count": null,
   "metadata": {},
   "outputs": [],
   "source": [
    "celebA_HQ_score = fid.compute_fid(\"/home/ys/DiT/samples_fid/celeba-hq/SDiT-1450000-size-128-cfg-1.0-seed-0\", \"/HDD/dataset/CelebA-128/CelebA-img/\",batch_size=50)\n",
    "print(celebA_HQ_score)"
   ]
  }
 ],
 "metadata": {
  "kernelspec": {
   "display_name": "snn",
   "language": "python",
   "name": "python3"
  },
  "language_info": {
   "codemirror_mode": {
    "name": "ipython",
    "version": 3
   },
   "file_extension": ".py",
   "mimetype": "text/x-python",
   "name": "python",
   "nbconvert_exporter": "python",
   "pygments_lexer": "ipython3",
   "version": "3.10.13"
  }
 },
 "nbformat": 4,
 "nbformat_minor": 2
}
